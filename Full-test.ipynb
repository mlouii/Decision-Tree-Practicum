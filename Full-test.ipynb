{
 "cells": [
  {
   "cell_type": "code",
   "execution_count": 1,
   "metadata": {},
   "outputs": [],
   "source": [
    "from DecisionTree import *\n",
    "import unittest\n",
    "import pandas as pd\n",
    "import numpy as np"
   ]
  },
  {
   "cell_type": "code",
   "execution_count": 2,
   "metadata": {},
   "outputs": [],
   "source": [
    "data = {\n",
    "    \"Length\":[41, 50, 21, 36, 60],\n",
    "    \"Weight\":[120, 230, 110, 146, 180],\n",
    "    \"Width\":[30, 24, 33, 10, 5],\n",
    "    \"Class\":[1, 0, 1, 1, 0]\n",
    "}\n",
    "df = pd.DataFrame(data)"
   ]
  },
  {
   "cell_type": "code",
   "execution_count": 4,
   "metadata": {},
   "outputs": [],
   "source": [
    "#Decision Node Numerical\n",
    "tc = unittest.TestCase()\n",
    "temp1 = DecisionNodeNumerical(feature_name = \"Length\", threshold = 30)\n",
    "\n",
    "tc.assertEqual(temp1.left_query(), f'`Length` <= 30')\n",
    "tc.assertEqual(temp1.right_query(), f'`Length` > 30')\n",
    "\n",
    "#temp = DecisionNodeNumerical(feature_name = \"Human\", threshold = 30)\n",
    "#tc.assertEqual(temp.left_query(), ') ---- Feature Does not exist error?\n",
    "#Decision Tree Classifier\n",
    "temp2 = DecisionTreeClassifier(2, 2)\n",
    "\n",
    "#tc.assertEqual(temp2.get_entropy(df, \"Class\"), )"
   ]
  },
  {
   "cell_type": "code",
   "execution_count": null,
   "metadata": {},
   "outputs": [],
   "source": []
  }
 ],
 "metadata": {
  "kernelspec": {
   "display_name": "Python 3 (ipykernel)",
   "language": "python",
   "name": "python3"
  },
  "language_info": {
   "codemirror_mode": {
    "name": "ipython",
    "version": 3
   },
   "file_extension": ".py",
   "mimetype": "text/x-python",
   "name": "python",
   "nbconvert_exporter": "python",
   "pygments_lexer": "ipython3",
   "version": "3.11.2"
  }
 },
 "nbformat": 4,
 "nbformat_minor": 2
}
