{
 "cells": [
  {
   "cell_type": "code",
   "execution_count": 83,
   "id": "bd24d066",
   "metadata": {},
   "outputs": [],
   "source": [
    "import pandas as pd\n",
    "import numpy as np\n",
    "import webbrowser\n",
    "import urllib"
   ]
  },
  {
   "cell_type": "code",
   "execution_count": 84,
   "id": "860c64ac",
   "metadata": {},
   "outputs": [],
   "source": [
    "from sklearn.datasets import load_iris\n",
    "from DecisionTree import *\n",
    "\n",
    "iris = load_iris()\n",
    "df = pd.DataFrame(data=iris.data, columns=iris.feature_names)\n",
    "df['target'] = iris.target"
   ]
  },
  {
   "cell_type": "code",
   "execution_count": 85,
   "id": "bbc5bfb6",
   "metadata": {},
   "outputs": [],
   "source": [
    "class DecisionNodeNumerical():\n",
    "    def __init__(self, feature_name = None, threshold = None, left = None, right = None, info_gain = None):\n",
    "        self.feature_name = feature_name\n",
    "        self.threshold = threshold\n",
    "        self.left = left\n",
    "        self.right = right\n",
    "        self.info_gain = info_gain\n",
    "        \n",
    "    def set_info_gain(self, info_gain):\n",
    "        self.info_gain = info_gain\n",
    "\n",
    "        \n",
    "    def set_left(self, left):\n",
    "        self.left = left\n",
    "        \n",
    "    def set_right(self, right):\n",
    "        self.right = right\n",
    "        \n",
    "    def left_query(self):\n",
    "        return f'`{self.feature_name}` <= {self.threshold}'\n",
    "    \n",
    "    def right_query(self):\n",
    "        return f'`{self.feature_name}` > {self.threshold}'\n",
    "    \n",
    "    def to_dot(self):\n",
    "        toAdd = []\n",
    "        toAdd.append(f\"<B>{self.feature_name} &le; {str(self.threshold)}</B><br/>\")\n",
    "        toAdd.append(f\"info gain = {str(round(self.info_gain, 2))}\")\n",
    "        \n",
    "        toAddStr = \"<br/>\".join(toAdd)\n",
    "        return f\"[label=<{toAddStr}>, fillcolor=\\\"#ffffff\\\"]\"\n",
    "        \n",
    "class LeafNode():\n",
    "    def __init__(self, value, size, entropy = None, gini = None):\n",
    "        self.value = value\n",
    "        self.entropy = entropy\n",
    "        self.gini = gini\n",
    "        self.size = size\n",
    "        \n",
    "    def to_dot(self):\n",
    "        toAdd = []\n",
    "        toAdd.append(f\"<B>class = {self.value}</B><br/>\")\n",
    "        toAdd.append(f\"entropy = {round(self.entropy, 2)}\")\n",
    "        toAdd.append(f\"size = {self.size}\")\n",
    "        \n",
    "        toAddStr = \"<br/>\".join(toAdd)\n",
    "        return f\"[label=<{toAddStr}>, fillcolor=\\\"#ffffff\\\"]\"\n",
    "    \n",
    "\n",
    "class DecisionTreeClassifier:\n",
    "    \n",
    "    def __init__(self, max_depth = None, min_sample_leaf = None):\n",
    "        self.depth = 0\n",
    "        self.max_depth = max_depth\n",
    "        self.min_sample_leaf = min_sample_leaf\n",
    "        \n",
    "        import numpy as np\n",
    "        \n",
    "        self.root = None\n",
    "        \n",
    "        \n",
    "    def split(self, df, decisionNode):\n",
    "        df_left = df.query(decisionNode.left_query())\n",
    "        df_right = df.query(decisionNode.right_query())\n",
    "        return (df_left, df_right)\n",
    "        \n",
    "    def get_information_gain(self, parent, l_child, r_child, target_col, mode=\"entropy\"):\n",
    "        weight_l = len(l_child) / len(parent)\n",
    "        weight_r = len(r_child) / len(parent)\n",
    "        if mode==\"gini\":\n",
    "            gain = self.get_gini(parent, target_col) - (weight_l*self.get_gini(l_child, target_col) + weight_r*self.get_gini(r_child, target_col))\n",
    "        else:\n",
    "            gain = self.get_entropy(parent, target_col) - (weight_l*self.get_entropy(l_child, target_col) + weight_r*self.get_entropy(r_child, target_col))\n",
    "        return gain\n",
    "        \n",
    "    def get_entropy(self, df, target_col):\n",
    "        entropy = 0\n",
    "        for target in np.unique(df[target_col]):\n",
    "            fraction = df[target_col].value_counts()[target] / len(df[target_col])\n",
    "            entropy += -fraction * np.log2(fraction)\n",
    "            \n",
    "        return entropy\n",
    "    \n",
    "    # Dont use this for multi-class stuff\n",
    "    def get_gini(self, df, target_col):\n",
    "        gini = 0\n",
    "        for target in np.unique(df[target_col]):\n",
    "            fraction = df[target_col].value_counts()[target] / len(df[target_col])\n",
    "            gini += fraction ** 2\n",
    "            \n",
    "        return gini\n",
    "    \n",
    "    def generate_leaf_node(self, df, target_col):\n",
    "        value = df[target_col].mode()[0]\n",
    "        entropy = self.get_entropy(df, target_col)\n",
    "        gini = self.get_gini(df, target_col)\n",
    "        size = len(df)\n",
    "        return LeafNode(value, size, entropy, gini)\n",
    "    \n",
    "    def get_best_split(self, df, target_col):\n",
    "        \n",
    "        max_info_gain = float(\"-inf\")\n",
    "        best_decision = None\n",
    "        \n",
    "        for column in df.columns:\n",
    "            if column == target_col:\n",
    "                continue\n",
    "            \n",
    "            possible_thresholds = np.unique(df[column])\n",
    "            for threshold in possible_thresholds:\n",
    "                decisionNode = DecisionNodeNumerical(feature_name=column, threshold=threshold)\n",
    "                df_left, df_right = self.split(df, decisionNode)\n",
    "                curr_info_gain = self.get_information_gain(df, df_left, df_right, target_col, \"entropy\")\n",
    "#                 print(curr_info_gain)\n",
    "                if curr_info_gain > max_info_gain:\n",
    "                    decisionNode.set_info_gain(curr_info_gain)\n",
    "                    best_decision = decisionNode\n",
    "                    max_info_gain = curr_info_gain\n",
    "        \n",
    "        return best_decision \n",
    "    \n",
    "    def build_tree(self, df, target, current_depth):\n",
    "        if len(df) >= self.min_sample_leaf and current_depth <= self.max_depth:\n",
    "            best_split = self.get_best_split(df, target)\n",
    "            left_df, right_df = self.split(df, best_split)\n",
    "            if best_split.info_gain > 0:\n",
    "                left_subtree = self.build_tree(left_df, target, current_depth + 1)\n",
    "                best_split.set_left(left_subtree)\n",
    "                \n",
    "                right_subtree = self.build_tree(right_df, target, current_depth + 1)\n",
    "                best_split.set_right(right_subtree)\n",
    "                \n",
    "                return best_split\n",
    "        \n",
    "        leaf_node = self.generate_leaf_node(df, target)\n",
    "        return leaf_node\n",
    "            \n",
    "    def fit(self, df, target):\n",
    "        self.root = self.build_tree(df, target, 0)\n",
    "        \n",
    "    def print_tree(self):\n",
    "        lines = []\n",
    "        global_node_id = 0\n",
    "        \n",
    "        def helper(node, parent_id):\n",
    "            nonlocal lines\n",
    "            nonlocal global_node_id\n",
    "            \n",
    "            node_id = global_node_id\n",
    "            global_node_id += 1\n",
    "            if node:\n",
    "                lines.append(f\"{node_id} {node.to_dot()};\")\n",
    "                if parent_id is not None:\n",
    "                    lines.append(f\"{parent_id} -> {node_id};\")\n",
    "                \n",
    "                if isinstance(node, DecisionNodeNumerical):\n",
    "                    helper(node.left, node_id)\n",
    "                    helper(node.right, node_id)\n",
    "        \n",
    "        helper(self.root, None)\n",
    "        linesStr = \"\\n\".join(lines)\n",
    "        \n",
    "        return f\"\"\"digraph Tree {{\n",
    "node [shape=box, style=\"filled, rounded\", color=\"black\", fontname=\"helvetica\"] ;\n",
    "edge [fontname=\"helvetica\"] ;\n",
    "                {linesStr}\n",
    "}}\"\"\"\n",
    "    \n",
    "        \n",
    "    def show_tree(self):\n",
    "        text = urllib.parse.urlencode({\"thing\": self.print_tree()})\n",
    "        text = \"https://dreampuf.github.io/GraphvizOnline/#\" + text[6:].replace(\"+\", \"%20\")\n",
    "        webbrowser.open_new_tab(text)\n",
    "        \n",
    "        \n",
    "        \n",
    "                \n",
    "                "
   ]
  },
  {
   "cell_type": "code",
   "execution_count": 95,
   "id": "0eb808cc",
   "metadata": {},
   "outputs": [],
   "source": [
    "d = DecisionTreeClassifier(2, 2)"
   ]
  },
  {
   "cell_type": "code",
   "execution_count": 96,
   "id": "dec3ad85",
   "metadata": {},
   "outputs": [],
   "source": [
    "\n",
    "d.fit(df, \"target\")"
   ]
  },
  {
   "cell_type": "code",
   "execution_count": 97,
   "id": "f11aab4b",
   "metadata": {},
   "outputs": [],
   "source": [
    "d.show_tree()"
   ]
  },
  {
   "cell_type": "code",
   "execution_count": 81,
   "id": "c7a1d967",
   "metadata": {},
   "outputs": [],
   "source": []
  },
  {
   "cell_type": "code",
   "execution_count": 82,
   "id": "edfc9fa6",
   "metadata": {},
   "outputs": [
    {
     "data": {
      "text/plain": [
       "True"
      ]
     },
     "execution_count": 82,
     "metadata": {},
     "output_type": "execute_result"
    }
   ],
   "source": [
    "\n"
   ]
  },
  {
   "cell_type": "code",
   "execution_count": 8,
   "id": "0d95fa3e",
   "metadata": {},
   "outputs": [],
   "source": [
    "from sklearn.datasets import load_iris\n",
    "from sklearn.tree import DecisionTreeClassifier, export_graphviz, plot_tree\n",
    "\n",
    "# Load the iris dataset\n",
    "iris = load_iris()\n",
    "\n",
    "# Train a decision tree classifier\n",
    "clf = DecisionTreeClassifier(max_depth=2)\n",
    "clf.fit(iris.data, iris.target)\n",
    "\n",
    "# Export the decision tree to a Graphviz dot file\n",
    "export_graphviz(clf, out_file='tree.dot', feature_names=iris.feature_names, class_names=iris.target_names, filled=True, rounded=True, special_characters=True)"
   ]
  },
  {
   "cell_type": "code",
   "execution_count": 9,
   "id": "8eeff16c",
   "metadata": {},
   "outputs": [
    {
     "data": {
      "text/plain": [
       "[Text(0.4, 0.8333333333333334, 'X[2] <= 2.45\\ngini = 0.667\\nsamples = 150\\nvalue = [50, 50, 50]'),\n",
       " Text(0.2, 0.5, 'gini = 0.0\\nsamples = 50\\nvalue = [50, 0, 0]'),\n",
       " Text(0.6, 0.5, 'X[3] <= 1.75\\ngini = 0.5\\nsamples = 100\\nvalue = [0, 50, 50]'),\n",
       " Text(0.4, 0.16666666666666666, 'gini = 0.168\\nsamples = 54\\nvalue = [0, 49, 5]'),\n",
       " Text(0.8, 0.16666666666666666, 'gini = 0.043\\nsamples = 46\\nvalue = [0, 1, 45]')]"
      ]
     },
     "execution_count": 9,
     "metadata": {},
     "output_type": "execute_result"
    },
    {
     "data": {
      "image/png": "[encoded data removed]",
      "text/plain": [
       "<Figure size 432x288 with 1 Axes>"
      ]
     },
     "metadata": {
      "needs_background": "light"
     },
     "output_type": "display_data"
    }
   ],
   "source": [
    "plot_tree(clf)"
   ]
  },
  {
   "cell_type": "code",
   "execution_count": 3,
   "id": "4b6a5e12",
   "metadata": {},
   "outputs": [
    {
     "name": "stdout",
     "output_type": "stream",
     "text": [
      "digraph Tree {\n",
      "node [shape=box, style=\"filled, rounded\", color=\"black\", fontname=\"helvetica\"] ;\n",
      "edge [fontname=\"helvetica\"] ;\n",
      "\n",
      "}'\n"
     ]
    }
   ],
   "source": [
    "dot = \"\"\"digraph Tree {\n",
    "node [shape=box, style=\"filled, rounded\", color=\"black\", fontname=\"helvetica\"] ;\n",
    "edge [fontname=\"helvetica\"] ;\n",
    "\n",
    "}'\"\"\"\n",
    "    \n",
    "print(dot)"
   ]
  },
  {
   "cell_type": "code",
   "execution_count": null,
   "id": "6b767a2d",
   "metadata": {},
   "outputs": [],
   "source": [
    "digraph Tree {\n",
    "node [shape=box, style=\"filled, rounded\", color=\"black\", fontname=\"helvetica\"] ;\n",
    "edge [fontname=\"helvetica\"] ;\n",
    "0 [label=<petal length (cm) &le; 2.45<br/>gini = 0.667<br/>samples = 150<br/>value = [50, 50, 50]<br/>class = setosa>, fillcolor=\"#ffffff\"] ;\n",
    "1 [label=<gini = 0.0<br/>samples = 50<br/>value = [50, 0, 0]<br/>class = setosa>, fillcolor=\"#e58139\"] ;\n",
    "0 -> 1 [labeldistance=2.5, labelangle=45, headlabel=\"True\"] ;\n",
    "2 [label=<petal width (cm) &le; 1.75<br/>gini = 0.5<br/>samples = 100<br/>value = [0, 50, 50]<br/>class = versicolor>, fillcolor=\"#ffffff\"] ;\n",
    "0 -> 2 [labeldistance=2.5, labelangle=-45, headlabel=\"False\"] ;\n",
    "3 [label=<gini = 0.168<br/>samples = 54<br/>value = [0, 49, 5]<br/>class = versicolor>, fillcolor=\"#4de88e\"] ;\n",
    "2 -> 3 ;\n",
    "4 [label=<gini = 0.043<br/>samples = 46<br/>value = [0, 1, 45]<br/>class = virginica>, fillcolor=\"#843de6\"] ;\n",
    "2 -> 4 ;\n",
    "}\n",
    "\n",
    "\n",
    "digraph Tree {\n",
    "node [shape=box, style=\"filled, rounded\", color=\"black\", fontname=\"helvetica\"] ;\n",
    "edge [fontname=\"helvetica\"] ;\n",
    "\n",
    "}"
   ]
  }
 ],
 "metadata": {
  "kernelspec": {
   "display_name": "Python 3 (ipykernel)",
   "language": "python",
   "name": "python3"
  },
  "language_info": {
   "codemirror_mode": {
    "name": "ipython",
    "version": 3
   },
   "file_extension": ".py",
   "mimetype": "text/x-python",
   "name": "python",
   "nbconvert_exporter": "python",
   "pygments_lexer": "ipython3",
   "version": "3.10.0"
  }
 },
 "nbformat": 4,
 "nbformat_minor": 5
}
